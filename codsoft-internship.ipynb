{
 "cells": [
  {
   "cell_type": "code",
   "execution_count": 1,
   "id": "fb189c23-a353-43c3-8ec9-a2356b1c8af4",
   "metadata": {},
   "outputs": [
    {
     "name": "stdout",
     "output_type": "stream",
     "text": [
      "Welcome to the Simple Calculator!\n"
     ]
    },
    {
     "name": "stdin",
     "output_type": "stream",
     "text": [
      "Enter the first number:  40\n",
      "Enter the second number:  40\n"
     ]
    },
    {
     "name": "stdout",
     "output_type": "stream",
     "text": [
      "\n",
      "Choose the operation:\n",
      "1. Addition (+)\n",
      "2. Subtraction (-)\n",
      "3. Multiplication (*)\n",
      "4. Division (/)\n"
     ]
    },
    {
     "name": "stdin",
     "output_type": "stream",
     "text": [
      "Enter your choice (1/2/3/4):  1\n"
     ]
    },
    {
     "name": "stdout",
     "output_type": "stream",
     "text": [
      "\n",
      "Result: 40.0 + 40.0 = 80.0\n"
     ]
    }
   ],
   "source": [
    "# Simple Calculator Program\n",
    "\n",
    "def calculator():\n",
    "    print(\"Welcome to the Simple Calculator!\")\n",
    "    \n",
    "    # Prompt user for input\n",
    "    num1 = float(input(\"Enter the first number: \"))\n",
    "    num2 = float(input(\"Enter the second number: \"))\n",
    "    \n",
    "    print(\"\\nChoose the operation:\")\n",
    "    print(\"1. Addition (+)\")\n",
    "    print(\"2. Subtraction (-)\")\n",
    "    print(\"3. Multiplication (*)\")\n",
    "    print(\"4. Division (/)\")\n",
    "    \n",
    "    operation = input(\"Enter your choice (1/2/3/4): \")\n",
    "\n",
    "    # Perform calculation based on user's choice\n",
    "    if operation == '1':\n",
    "        result = num1 + num2\n",
    "        print(f\"\\nResult: {num1} + {num2} = {result}\")\n",
    "    elif operation == '2':\n",
    "        result = num1 - num2\n",
    "        print(f\"\\nResult: {num1} - {num2} = {result}\")\n",
    "    elif operation == '3':\n",
    "        result = num1 * num2\n",
    "        print(f\"\\nResult: {num1} * {num2} = {result}\")\n",
    "    elif operation == '4':\n",
    "        if num2 != 0:\n",
    "            result = num1 / num2\n",
    "            print(f\"\\nResult: {num1} / {num2} = {result}\")\n",
    "        else:\n",
    "            print(\"\\nError: Division by zero is not allowed.\")\n",
    "    else:\n",
    "        print(\"\\nInvalid operation choice. Please select 1, 2, 3, or 4.\")\n",
    "\n",
    "# Run the calculator\n",
    "calculator()\n"
   ]
  },
  {
   "cell_type": "code",
   "execution_count": 2,
   "id": "66e2c476-be77-425b-80c9-4bea645e2d5c",
   "metadata": {},
   "outputs": [
    {
     "name": "stdout",
     "output_type": "stream",
     "text": [
      "Welcome to the Password Generator!\n"
     ]
    },
    {
     "name": "stdin",
     "output_type": "stream",
     "text": [
      "Enter the desired password length:  5\n"
     ]
    },
    {
     "name": "stdout",
     "output_type": "stream",
     "text": [
      "\n",
      "Generated Password: >YAC,\n"
     ]
    }
   ],
   "source": [
    "import random\n",
    "import string\n",
    "\n",
    "def generate_password(length):\n",
    "    # Define characters to use: letters, digits, and symbols\n",
    "    characters = string.ascii_letters + string.digits + string.punctuation\n",
    "    password = ''.join(random.choice(characters) for _ in range(length))\n",
    "    return password\n",
    "\n",
    "def main():\n",
    "    print(\"Welcome to the Password Generator!\")\n",
    "    \n",
    "    # Prompt user for desired password length\n",
    "    try:\n",
    "        length = int(input(\"Enter the desired password length: \"))\n",
    "        if length <= 0:\n",
    "            print(\"Please enter a positive number.\")\n",
    "            return\n",
    "    except ValueError:\n",
    "        print(\"Invalid input. Please enter a number.\")\n",
    "        return\n",
    "\n",
    "    # Generate and display the password\n",
    "    password = generate_password(length)\n",
    "    print(f\"\\nGenerated Password: {password}\")\n",
    "\n",
    "# Run the main function\n",
    "main()\n"
   ]
  },
  {
   "cell_type": "code",
   "execution_count": null,
   "id": "b8393596-7ea4-4259-aece-4cda84c087b1",
   "metadata": {},
   "outputs": [
    {
     "name": "stdout",
     "output_type": "stream",
     "text": [
      "\n",
      "--- TO-DO LIST MENU ---\n",
      "1. Add Task\n",
      "2. View Tasks\n",
      "3. Mark Task as Done\n",
      "4. Delete Task\n",
      "5. Exit\n"
     ]
    },
    {
     "name": "stdin",
     "output_type": "stream",
     "text": [
      "Choose an option (1-5):  1\n",
      "Enter the task:  complete work\n"
     ]
    },
    {
     "name": "stdout",
     "output_type": "stream",
     "text": [
      "Task added successfully.\n",
      "\n",
      "--- TO-DO LIST MENU ---\n",
      "1. Add Task\n",
      "2. View Tasks\n",
      "3. Mark Task as Done\n",
      "4. Delete Task\n",
      "5. Exit\n"
     ]
    },
    {
     "name": "stdin",
     "output_type": "stream",
     "text": [
      "Choose an option (1-5):  2\n"
     ]
    },
    {
     "name": "stdout",
     "output_type": "stream",
     "text": [
      "\n",
      "Your Tasks:\n",
      "1. complete work [❌ Not Done]\n",
      "\n",
      "--- TO-DO LIST MENU ---\n",
      "1. Add Task\n",
      "2. View Tasks\n",
      "3. Mark Task as Done\n",
      "4. Delete Task\n",
      "5. Exit\n"
     ]
    },
    {
     "name": "stdin",
     "output_type": "stream",
     "text": [
      "Choose an option (1-5):  3\n"
     ]
    },
    {
     "name": "stdout",
     "output_type": "stream",
     "text": [
      "\n",
      "Your Tasks:\n",
      "1. complete work [❌ Not Done]\n"
     ]
    },
    {
     "name": "stdin",
     "output_type": "stream",
     "text": [
      "Enter the task number to mark as done:  4\n"
     ]
    },
    {
     "name": "stdout",
     "output_type": "stream",
     "text": [
      "Invalid task number.\n",
      "\n",
      "--- TO-DO LIST MENU ---\n",
      "1. Add Task\n",
      "2. View Tasks\n",
      "3. Mark Task as Done\n",
      "4. Delete Task\n",
      "5. Exit\n"
     ]
    }
   ],
   "source": [
    "#### Simple To-Do List Application\n",
    "\n",
    "todo_list = []\n",
    "\n",
    "def show_menu():\n",
    "    print(\"\\n--- TO-DO LIST MENU ---\")\n",
    "    print(\"1. Add Task\")\n",
    "    print(\"2. View Tasks\")\n",
    "    print(\"3. Mark Task as Done\")\n",
    "    print(\"4. Delete Task\")\n",
    "    print(\"5. Exit\")\n",
    "\n",
    "def add_task():\n",
    "    task = input(\"Enter the task: \").strip()\n",
    "    if task:\n",
    "        todo_list.append({'task': task, 'done': False})\n",
    "        print(\"Task added successfully.\")\n",
    "    else:\n",
    "        print(\"Task cannot be empty.\")\n",
    "\n",
    "def view_tasks():\n",
    "    if not todo_list:\n",
    "        print(\"Your to-do list is empty.\")\n",
    "    else:\n",
    "        print(\"\\nYour Tasks:\")\n",
    "        for i, task in enumerate(todo_list, 1):\n",
    "            status = \"✔ Done\" if task['done'] else \"❌ Not Done\"\n",
    "            print(f\"{i}. {task['task']} [{status}]\")\n",
    "\n",
    "def mark_task_done():\n",
    "    view_tasks()\n",
    "    try:\n",
    "        index = int(input(\"Enter the task number to mark as done: \")) - 1\n",
    "        if 0 <= index < len(todo_list):\n",
    "            todo_list[index]['done'] = True\n",
    "            print(\"Task marked as done.\")\n",
    "        else:\n",
    "            print(\"Invalid task number.\")\n",
    "    except ValueError:\n",
    "        print(\"Please enter a valid number.\")\n",
    "\n",
    "def delete_task():\n",
    "    view_tasks()\n",
    "    try:\n",
    "        index = int(input(\"Enter the task number to delete: \")) - 1\n",
    "        if 0 <= index < len(todo_list):\n",
    "            removed = todo_list.pop(index)\n",
    "            print(f\"Task '{removed['task']}' deleted.\")\n",
    "        else:\n",
    "            print(\"Invalid task number.\")\n",
    "    except ValueError:\n",
    "        print(\"Please enter a valid number.\")\n",
    "\n",
    "def main():\n",
    "    while True:\n",
    "        show_menu()\n",
    "        choice = input(\"Choose an option (1-5): \").strip()\n",
    "        \n",
    "        if choice == '1':\n",
    "            add_task()\n",
    "        elif choice == '2':\n",
    "            view_tasks()\n",
    "        elif choice == '3':\n",
    "            mark_task_done()\n",
    "        elif choice == '4':\n",
    "            delete_task()\n",
    "        elif choice == '5':\n",
    "            print(\"Exiting To-Do List. Goodbye!\")\n",
    "            break\n",
    "        else:\n",
    "            print(\"Invalid choice. Please select a valid option.\")\n",
    "\n",
    "# Start the To-Do List app\n",
    "main()\n"
   ]
  },
  {
   "cell_type": "code",
   "execution_count": null,
   "id": "cac2b479-fd0b-4b74-80e3-23c515eca2fb",
   "metadata": {},
   "outputs": [],
   "source": []
  }
 ],
 "metadata": {
  "kernelspec": {
   "display_name": "Python 3 (ipykernel)",
   "language": "python",
   "name": "python3"
  },
  "language_info": {
   "codemirror_mode": {
    "name": "ipython",
    "version": 3
   },
   "file_extension": ".py",
   "mimetype": "text/x-python",
   "name": "python",
   "nbconvert_exporter": "python",
   "pygments_lexer": "ipython3",
   "version": "3.13.1"
  }
 },
 "nbformat": 4,
 "nbformat_minor": 5
}
